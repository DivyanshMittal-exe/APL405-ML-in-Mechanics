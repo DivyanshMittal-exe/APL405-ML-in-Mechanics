{
 "cells": [
  {
   "cell_type": "code",
   "execution_count": 1,
   "metadata": {},
   "outputs": [],
   "source": [
    "import numpy as np\n",
    "from matplotlib import pyplot as plt\n",
    "import pandas as pd\n",
    "from Week2_Q2_Template import mr\n",
    "plt.style.use('ggplot')\n"
   ]
  },
  {
   "cell_type": "code",
   "execution_count": 2,
   "metadata": {},
   "outputs": [
    {
     "name": "stdout",
     "output_type": "stream",
     "text": [
      "bedrooms          3.370842\n",
      "bathrooms         2.114757\n",
      "sqft_living    2079.899736\n",
      "floors            1.494309\n",
      "yr_built       1971.005136\n",
      "dtype: float64\n",
      "[[-0.39872792 -1.44743008 -0.97981235 -0.91540583 -0.54488517]\n",
      " [-0.39872792  0.17560263  0.53362199  0.93648411 -0.68106275]\n",
      " [-1.47392526 -1.44743008 -1.42622105 -0.91540583 -1.29386186]\n",
      " ...\n",
      " [-1.47392526 -1.77203663 -1.15402062  0.93648411  1.29351217]\n",
      " [-0.39872792  0.50020918 -0.52251564  0.93648411  1.12329019]\n",
      " [-1.47392526 -1.77203663 -1.15402062  0.93648411  1.25946777]]\n",
      "[221900. 538000. 180000. ... 402101. 400000. 325000.]\n"
     ]
    }
   ],
   "source": [
    "df = pd.read_csv('prob2data.csv')\n",
    "price = df['price']\n",
    "clrdf = df[['bedrooms', 'bathrooms', 'sqft_living', 'floors', 'yr_built']]\n",
    "print(clrdf.mean())\n",
    "clrdf = (clrdf-clrdf.mean())/clrdf.std()\n",
    "clrdf = clrdf.to_numpy()\n",
    "price = price.to_numpy()\n",
    "print(clrdf)\n",
    "print(price)"
   ]
  },
  {
   "cell_type": "code",
   "execution_count": 3,
   "metadata": {
    "scrolled": true
   },
   "outputs": [
    {
     "ename": "ValueError",
     "evalue": "shapes (6,) and (21613,5) not aligned: 6 (dim 0) != 21613 (dim 0)",
     "output_type": "error",
     "traceback": [
      "\u001b[1;31m---------------------------------------------------------------------------\u001b[0m",
      "\u001b[1;31mValueError\u001b[0m                                Traceback (most recent call last)",
      "Input \u001b[1;32mIn [3]\u001b[0m, in \u001b[0;36m<module>\u001b[1;34m\u001b[0m\n\u001b[0;32m      2\u001b[0m mr_o \u001b[38;5;241m=\u001b[39m mr()\n\u001b[0;32m      3\u001b[0m w \u001b[38;5;241m=\u001b[39m np\u001b[38;5;241m.\u001b[39mmultiply(\u001b[38;5;241m1000\u001b[39m,np\u001b[38;5;241m.\u001b[39mrandom\u001b[38;5;241m.\u001b[39mrand(\u001b[38;5;241m6\u001b[39m))\n\u001b[1;32m----> 4\u001b[0m a \u001b[38;5;241m=\u001b[39m \u001b[43mmr_o\u001b[49m\u001b[38;5;241;43m.\u001b[39;49m\u001b[43mbgdMulti\u001b[49m\u001b[43m(\u001b[49m\u001b[43mclrdf\u001b[49m\u001b[38;5;241;43m.\u001b[39;49m\u001b[43mT\u001b[49m\u001b[43m,\u001b[49m\u001b[43mprice\u001b[49m\u001b[38;5;241;43m.\u001b[39;49m\u001b[43mT\u001b[49m\u001b[43m,\u001b[49m\u001b[43mw\u001b[49m\u001b[43m,\u001b[49m\u001b[38;5;241;43m0.5\u001b[39;49m\u001b[43m,\u001b[49m\u001b[43miters\u001b[49m\u001b[43m)\u001b[49m\n\u001b[0;32m      5\u001b[0m b \u001b[38;5;241m=\u001b[39m mr_o\u001b[38;5;241m.\u001b[39mbgdMulti(clrdf\u001b[38;5;241m.\u001b[39mT,price\u001b[38;5;241m.\u001b[39mT,w,\u001b[38;5;241m0.1\u001b[39m,iters)\n\u001b[0;32m      6\u001b[0m c \u001b[38;5;241m=\u001b[39m mr_o\u001b[38;5;241m.\u001b[39mbgdMulti(clrdf\u001b[38;5;241m.\u001b[39mT,price\u001b[38;5;241m.\u001b[39mT,w,\u001b[38;5;241m0.01\u001b[39m,iters)\n",
      "File \u001b[1;32mD:\\Codes\\APL405\\MyCode\\Week_02_Regression\\Week2_Q2_Template.py:53\u001b[0m, in \u001b[0;36mmr.bgdMulti\u001b[1;34m(self, x, y, w, alpha, iters)\u001b[0m\n\u001b[0;32m     50\u001b[0m J_history \u001b[38;5;241m=\u001b[39m []   \u001b[38;5;66;03m# Use a python list to save cost in every iteration\u001b[39;00m\n\u001b[0;32m     52\u001b[0m \u001b[38;5;28;01mfor\u001b[39;00m i \u001b[38;5;129;01min\u001b[39;00m \u001b[38;5;28mrange\u001b[39m(iters):\n\u001b[1;32m---> 53\u001b[0m   j \u001b[38;5;241m=\u001b[39m \u001b[38;5;28;43mself\u001b[39;49m\u001b[38;5;241;43m.\u001b[39;49m\u001b[43mcomputeCost\u001b[49m\u001b[43m(\u001b[49m\u001b[43mx\u001b[49m\u001b[43m,\u001b[49m\u001b[43my\u001b[49m\u001b[43m,\u001b[49m\u001b[43mw\u001b[49m\u001b[43m)\u001b[49m\n\u001b[0;32m     54\u001b[0m   grad_J \u001b[38;5;241m=\u001b[39m \u001b[38;5;28mself\u001b[39m\u001b[38;5;241m.\u001b[39mgrad(x,y,w)\n\u001b[0;32m     55\u001b[0m   w \u001b[38;5;241m=\u001b[39m np\u001b[38;5;241m.\u001b[39msubtract(w,np\u001b[38;5;241m.\u001b[39mmultiply(alpha,grad_J))\n",
      "File \u001b[1;32mD:\\Codes\\APL405\\MyCode\\Week_02_Regression\\Week2_Q2_Template.py:38\u001b[0m, in \u001b[0;36mmr.computeCost\u001b[1;34m(self, x, y, w)\u001b[0m\n\u001b[0;32m     36\u001b[0m rows, columns \u001b[38;5;241m=\u001b[39m x\u001b[38;5;241m.\u001b[39mshape\n\u001b[0;32m     37\u001b[0m \u001b[38;5;66;03m# mat =np.vstack([np.ones(columns),x])\u001b[39;00m\n\u001b[1;32m---> 38\u001b[0m k \u001b[38;5;241m=\u001b[39m (\u001b[43mnp\u001b[49m\u001b[38;5;241;43m.\u001b[39;49m\u001b[43mdot\u001b[49m\u001b[43m(\u001b[49m\u001b[43mw\u001b[49m\u001b[43m,\u001b[49m\u001b[43mx\u001b[49m\u001b[43m)\u001b[49m \u001b[38;5;241m-\u001b[39m y)\n\u001b[0;32m     39\u001b[0m k \u001b[38;5;241m=\u001b[39m np\u001b[38;5;241m.\u001b[39msquare(k)\n\u001b[0;32m     40\u001b[0m J \u001b[38;5;241m=\u001b[39m np\u001b[38;5;241m.\u001b[39msum(k)\u001b[38;5;241m/\u001b[39m(\u001b[38;5;241m2\u001b[39m\u001b[38;5;241m*\u001b[39mcolumns)\n",
      "File \u001b[1;32m<__array_function__ internals>:5\u001b[0m, in \u001b[0;36mdot\u001b[1;34m(*args, **kwargs)\u001b[0m\n",
      "\u001b[1;31mValueError\u001b[0m: shapes (6,) and (21613,5) not aligned: 6 (dim 0) != 21613 (dim 0)"
     ]
    }
   ],
   "source": [
    "iters = 5000\n",
    "mr_o = mr()\n",
    "w = np.multiply(1000,np.random.rand(6))\n",
    "a = mr_o.bgdMulti(clrdf.T,price.T,w,0.5,iters)\n",
    "b = mr_o.bgdMulti(clrdf.T,price.T,w,0.1,iters)\n",
    "c = mr_o.bgdMulti(clrdf.T,price.T,w,0.01,iters)\n",
    "d = mr_o.bgdMulti(clrdf.T,price.T,w,0.05,iters)\n",
    "\n",
    "x_ar = [i for i in range(iters)]\n",
    "y_ar_a = a[1]\n",
    "y_ar_b = b[1]\n",
    "y_ar_c = c[1]\n",
    "y_ar_d = d[1]\n",
    "\n",
    "plt.plot(x_ar,y_ar_a,label=\"α = 0.5\")\n",
    "plt.plot(x_ar,y_ar_b,label=\"α = 0.1\")\n",
    "plt.plot(x_ar,y_ar_c,label=\"α = 0.01\")\n",
    "plt.plot(x_ar,y_ar_d,label=\"α = 0.05\")\n",
    "plt.title(\"Variaton of J with alpha\")\n",
    "plt.xlabel('No of iterations')\n",
    "plt.ylabel('J')  \n",
    "plt.legend()\n",
    "plt.savefig('J_2.png',dpi=500)\n",
    "plt.show()"
   ]
  },
  {
   "cell_type": "code",
   "execution_count": 20,
   "metadata": {},
   "outputs": [
    {
     "data": {
      "text/plain": [
       "245703.05519095418"
      ]
     },
     "execution_count": 20,
     "metadata": {},
     "output_type": "execute_result"
    }
   ],
   "source": [
    "al = np.array([540182.15879331, -62570.63794173,  52863.96758866, 275061.94892609, 30185.44439133, -99525.84920572])\n",
    "bl = np.array([1, -0.39872792, -1.44743008, -0.97981235, -0.91540583, -0.54488517])\n",
    "\n",
    "np.dot(al,bl)"
   ]
  },
  {
   "cell_type": "code",
   "execution_count": 28,
   "metadata": {},
   "outputs": [],
   "source": [
    "ar = np.array([4,2.5,2570,2,2005])"
   ]
  },
  {
   "cell_type": "code",
   "execution_count": 30,
   "metadata": {},
   "outputs": [],
   "source": [
    "df = pd.read_csv('prob2data.csv')\n",
    "price = df['price']\n",
    "clrdf = df[['bedrooms', 'bathrooms', 'sqft_living', 'floors', 'yr_built']]"
   ]
  },
  {
   "cell_type": "code",
   "execution_count": 34,
   "metadata": {},
   "outputs": [],
   "source": [
    "t = (ar - clrdf.mean())/clrdf.std()"
   ]
  },
  {
   "cell_type": "code",
   "execution_count": 45,
   "metadata": {},
   "outputs": [
    {
     "data": {
      "text/plain": [
       "584160.6638406984"
      ]
     },
     "execution_count": 45,
     "metadata": {},
     "output_type": "execute_result"
    }
   ],
   "source": [
    "alp = np.array([1,0.67646941, 0.50020918, 0.53362199, 0.93648411, 1.15733459])\n",
    "np.dot(alp,al)"
   ]
  }
 ],
 "metadata": {
  "kernelspec": {
   "display_name": "Python 3 (ipykernel)",
   "language": "python",
   "name": "python3"
  },
  "language_info": {
   "codemirror_mode": {
    "name": "ipython",
    "version": 3
   },
   "file_extension": ".py",
   "mimetype": "text/x-python",
   "name": "python",
   "nbconvert_exporter": "python",
   "pygments_lexer": "ipython3",
   "version": "3.9.2"
  }
 },
 "nbformat": 4,
 "nbformat_minor": 2
}
