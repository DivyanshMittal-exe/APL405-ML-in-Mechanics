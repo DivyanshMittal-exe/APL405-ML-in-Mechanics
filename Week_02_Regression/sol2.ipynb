{
 "cells": [
  {
   "cell_type": "code",
   "execution_count": 53,
   "metadata": {},
   "outputs": [],
   "source": [
    "import numpy as np\n",
    "from matplotlib import pyplot as plt\n",
    "import pandas as pd\n",
    "from Week2_Q2_Template import mr\n",
    "plt.style.use('ggplot')\n"
   ]
  },
  {
   "cell_type": "code",
   "execution_count": 49,
   "metadata": {},
   "outputs": [
    {
     "name": "stdout",
     "output_type": "stream",
     "text": [
      "bedrooms          3.370842\n",
      "bathrooms         2.114757\n",
      "sqft_living    2079.899736\n",
      "floors            1.494309\n",
      "yr_built       1971.005136\n",
      "dtype: float64\n",
      "[[-0.39872792 -1.44743008 -0.97981235 -0.91540583 -0.54488517]\n",
      " [-0.39872792  0.17560263  0.53362199  0.93648411 -0.68106275]\n",
      " [-1.47392526 -1.44743008 -1.42622105 -0.91540583 -1.29386186]\n",
      " ...\n",
      " [-1.47392526 -1.77203663 -1.15402062  0.93648411  1.29351217]\n",
      " [-0.39872792  0.50020918 -0.52251564  0.93648411  1.12329019]\n",
      " [-1.47392526 -1.77203663 -1.15402062  0.93648411  1.25946777]]\n",
      "[221900. 538000. 180000. ... 402101. 400000. 325000.]\n"
     ]
    }
   ],
   "source": [
    "df = pd.read_csv('prob2data.csv')\n",
    "price = df['price']\n",
    "clrdf = df[['bedrooms', 'bathrooms', 'sqft_living', 'floors', 'yr_built']]\n",
    "print(clrdf.mean())\n",
    "clrdf = (clrdf-clrdf.mean())/clrdf.std()\n",
    "clrdf = clrdf.to_numpy()\n",
    "price = price.to_numpy()\n",
    "print(clrdf)\n",
    "print(price)"
   ]
  },
  {
   "cell_type": "code",
   "execution_count": 56,
   "metadata": {
    "scrolled": true
   },
   "outputs": [
    {
     "data": {
      "image/png": "[encoded data removed]",
      "text/plain": [
       "<Figure size 432x288 with 1 Axes>"
      ]
     },
     "metadata": {},
     "output_type": "display_data"
    }
   ],
   "source": [
    "iters = 5000\n",
    "mr_o = mr()\n",
    "w = np.multiply(1000,np.random.rand(6))\n",
    "a = mr_o.bgdMulti(clrdf.T,price.T,w,0.5,iters)\n",
    "b = mr_o.bgdMulti(clrdf.T,price.T,w,0.1,iters)\n",
    "c = mr_o.bgdMulti(clrdf.T,price.T,w,0.01,iters)\n",
    "d = mr_o.bgdMulti(clrdf.T,price.T,w,0.05,iters)\n",
    "\n",
    "x_ar = [i for i in range(iters)]\n",
    "y_ar_a = a[1]\n",
    "y_ar_b = b[1]\n",
    "y_ar_c = c[1]\n",
    "y_ar_d = d[1]\n",
    "\n",
    "plt.plot(x_ar,y_ar_a,label=\"α = 0.5\")\n",
    "plt.plot(x_ar,y_ar_b,label=\"α = 0.1\")\n",
    "plt.plot(x_ar,y_ar_c,label=\"α = 0.01\")\n",
    "plt.plot(x_ar,y_ar_d,label=\"α = 0.05\")\n",
    "plt.title(\"Variaton of J with alpha\")\n",
    "plt.xlabel('No of iterations')\n",
    "plt.ylabel('J')  \n",
    "plt.legend()\n",
    "plt.savefig('J_2.png',dpi=500)\n",
    "plt.show()"
   ]
  },
  {
   "cell_type": "code",
   "execution_count": 20,
   "metadata": {},
   "outputs": [
    {
     "data": {
      "text/plain": [
       "245703.05519095418"
      ]
     },
     "execution_count": 20,
     "metadata": {},
     "output_type": "execute_result"
    }
   ],
   "source": [
    "al = np.array([540182.15879331, -62570.63794173,  52863.96758866, 275061.94892609, 30185.44439133, -99525.84920572])\n",
    "bl = np.array([1, -0.39872792, -1.44743008, -0.97981235, -0.91540583, -0.54488517])\n",
    "\n",
    "np.dot(al,bl)"
   ]
  },
  {
   "cell_type": "code",
   "execution_count": 28,
   "metadata": {},
   "outputs": [],
   "source": [
    "ar = np.array([4,2.5,2570,2,2005])"
   ]
  },
  {
   "cell_type": "code",
   "execution_count": 30,
   "metadata": {},
   "outputs": [],
   "source": [
    "df = pd.read_csv('prob2data.csv')\n",
    "price = df['price']\n",
    "clrdf = df[['bedrooms', 'bathrooms', 'sqft_living', 'floors', 'yr_built']]"
   ]
  },
  {
   "cell_type": "code",
   "execution_count": 34,
   "metadata": {},
   "outputs": [],
   "source": [
    "t = (ar - clrdf.mean())/clrdf.std()"
   ]
  },
  {
   "cell_type": "code",
   "execution_count": 45,
   "metadata": {},
   "outputs": [
    {
     "data": {
      "text/plain": [
       "584160.6638406984"
      ]
     },
     "execution_count": 45,
     "metadata": {},
     "output_type": "execute_result"
    }
   ],
   "source": [
    "alp = np.array([1,0.67646941, 0.50020918, 0.53362199, 0.93648411, 1.15733459])\n",
    "np.dot(alp,al)"
   ]
  }
 ],
 "metadata": {
  "kernelspec": {
   "display_name": "Python 3 (ipykernel)",
   "language": "python",
   "name": "python3"
  },
  "language_info": {
   "codemirror_mode": {
    "name": "ipython",
    "version": 3
   },
   "file_extension": ".py",
   "mimetype": "text/x-python",
   "name": "python",
   "nbconvert_exporter": "python",
   "pygments_lexer": "ipython3",
   "version": "3.9.2"
  }
 },
 "nbformat": 4,
 "nbformat_minor": 2
}
