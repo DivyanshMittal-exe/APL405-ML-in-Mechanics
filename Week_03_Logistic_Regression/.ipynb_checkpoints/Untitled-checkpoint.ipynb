{
 "cells": [
  {
   "cell_type": "code",
   "execution_count": 3,
   "id": "21226cf7",
   "metadata": {},
   "outputs": [],
   "source": [
    "import numpy as np\n",
    "from matplotlib import pyplot as plt\n",
    "import pandas as pd\n",
    "pd.options.mode.chained_assignment = None\n",
    "\n",
    "plt.style.use('ggplot')\n"
   ]
  },
  {
   "cell_type": "code",
   "execution_count": 3,
   "id": "73322073",
   "metadata": {},
   "outputs": [
    {
     "name": "stdout",
     "output_type": "stream",
     "text": [
      "             Date     Location  MinTemp  MaxTemp  Rainfall  Evaporation  \\\n",
      "0      01-12-2008       Albury     13.4     22.9       0.6          NaN   \n",
      "1      02-12-2008       Albury      7.4     25.1       0.0          NaN   \n",
      "2      03-12-2008       Albury     12.9     25.7       0.0          NaN   \n",
      "3      04-12-2008       Albury      9.2     28.0       0.0          NaN   \n",
      "4      05-12-2008       Albury     17.5     32.3       1.0          NaN   \n",
      "...           ...          ...      ...      ...       ...          ...   \n",
      "52057  21-06-2017  Tuggeranong     -1.2     15.1       0.4          NaN   \n",
      "52058  22-06-2017  Tuggeranong     -0.4     14.0       0.0          NaN   \n",
      "52059  23-06-2017  Tuggeranong     -3.5     13.4       0.0          NaN   \n",
      "52060  24-06-2017  Tuggeranong      0.1     14.5       0.0          NaN   \n",
      "52061  25-06-2017  Tuggeranong     -5.8     14.4       0.0          NaN   \n",
      "\n",
      "       Sunshine WindGustDir  WindGustSpeed WindDir9am  ... WindSpeed3pm  \\\n",
      "0           NaN           W           44.0          W  ...         24.0   \n",
      "1           NaN         WNW           44.0        NNW  ...         22.0   \n",
      "2           NaN         WSW           46.0          W  ...         26.0   \n",
      "3           NaN          NE           24.0         SE  ...          9.0   \n",
      "4           NaN           W           41.0        ENE  ...         20.0   \n",
      "...         ...         ...            ...        ...  ...          ...   \n",
      "52057       NaN         WSW           15.0        NaN  ...          7.0   \n",
      "52058       NaN           N           24.0        NaN  ...         15.0   \n",
      "52059       NaN          NW           33.0         SW  ...         13.0   \n",
      "52060       NaN          NW           35.0          N  ...         17.0   \n",
      "52061       NaN           W           43.0        SSE  ...         19.0   \n",
      "\n",
      "       Humidity9am  Humidity3pm  Pressure9am  Pressure3pm  Cloud9am  Cloud3pm  \\\n",
      "0             71.0         22.0       1007.7       1007.1       8.0       NaN   \n",
      "1             44.0         25.0       1010.6       1007.8       NaN       NaN   \n",
      "2             38.0         30.0       1007.6       1008.7       NaN       2.0   \n",
      "3             45.0         16.0       1017.6       1012.8       NaN       NaN   \n",
      "4             82.0         33.0       1010.8       1006.0       7.0       8.0   \n",
      "...            ...          ...          ...          ...       ...       ...   \n",
      "52057        100.0         38.0       1028.8       1026.3       NaN       NaN   \n",
      "52058         83.0         44.0       1029.5       1025.0       NaN       NaN   \n",
      "52059        100.0         38.0       1022.0       1016.1       NaN       NaN   \n",
      "52060         64.0         43.0       1017.1       1015.4       NaN       NaN   \n",
      "52061         86.0         49.0       1018.5       1016.0       NaN       NaN   \n",
      "\n",
      "       Temp9am  Temp3pm  RainTomorrow  \n",
      "0         16.9     21.8            No  \n",
      "1         17.2     24.3            No  \n",
      "2         21.0     23.2            No  \n",
      "3         18.1     26.5            No  \n",
      "4         17.8     29.7            No  \n",
      "...        ...      ...           ...  \n",
      "52057     -0.4     14.7            No  \n",
      "52058      6.0     13.1            No  \n",
      "52059      0.1     12.9            No  \n",
      "52060      9.5     13.1            No  \n",
      "52061     -0.5     11.3            No  \n",
      "\n",
      "[52062 rows x 22 columns]\n"
     ]
    }
   ],
   "source": [
    "df = pd.read_csv('weather_train.csv')\n",
    "print(df)\n"
   ]
  },
  {
   "cell_type": "code",
   "execution_count": 455,
   "id": "8ee6f8fe",
   "metadata": {},
   "outputs": [
    {
     "name": "stdout",
     "output_type": "stream",
     "text": [
      "       MinTemp    MaxTemp  Rainfall  Evaporation   Sunshine  WindGustSpeed  \\\n",
      "0         19.0  44.500000       0.0     6.096236  13.100000      54.000000   \n",
      "1         31.2  44.300000       0.0     6.096236  12.200000      54.000000   \n",
      "2         19.3  30.300000       0.0     6.096236   9.400000      46.000000   \n",
      "3         14.0  29.700000       0.0     6.096236  13.100000      44.000000   \n",
      "4         12.7  27.900000       0.0     6.096236  12.400000      50.000000   \n",
      "...        ...        ...       ...          ...        ...            ...   \n",
      "29088      2.8  23.400000       0.0     6.096236   8.422771      31.000000   \n",
      "29089      3.6  25.300000       0.0     6.096236   8.422771      22.000000   \n",
      "29090      5.4  26.900000       0.0     6.096236   8.422771      37.000000   \n",
      "29091      7.8  27.000000       0.0     6.096236   8.422771      28.000000   \n",
      "29092     14.9  25.248916       0.0     6.096236   8.422771      40.435895   \n",
      "\n",
      "       WindSpeed9am  WindSpeed3pm  Humidity9am  Humidity3pm  Pressure9am  \\\n",
      "0              26.0          15.0         27.0         10.0       1015.3   \n",
      "1              31.0          30.0         10.0         22.0       1007.7   \n",
      "2              22.0          28.0         63.0         43.0       1010.9   \n",
      "3              17.0          30.0         43.0         29.0       1012.2   \n",
      "4              11.0          31.0         48.0         34.0       1008.4   \n",
      "...             ...           ...          ...          ...          ...   \n",
      "29088          13.0          11.0         51.0         24.0       1024.6   \n",
      "29089          13.0           9.0         56.0         21.0       1023.5   \n",
      "29090           9.0           9.0         53.0         24.0       1021.0   \n",
      "29091          13.0           7.0         51.0         24.0       1019.4   \n",
      "29092          17.0          17.0         62.0         36.0       1020.2   \n",
      "\n",
      "       Pressure3pm  Cloud9am  Cloud3pm  Temp9am  Temp3pm  \n",
      "0           1009.7  3.780706  3.935895     31.2     42.9  \n",
      "1           1007.8  3.780706  3.935895     40.2     35.8  \n",
      "2           1009.5  7.000000  2.000000     23.2     27.6  \n",
      "3           1009.5  0.000000  0.000000     23.0     29.0  \n",
      "4           1008.4  1.000000  3.000000     23.4     25.7  \n",
      "...            ...       ...       ...      ...      ...  \n",
      "29088       1020.3  3.780706  3.935895     10.1     22.4  \n",
      "29089       1019.1  3.780706  3.935895     10.9     24.5  \n",
      "29090       1016.8  3.780706  3.935895     12.5     26.1  \n",
      "29091       1016.5  3.000000  2.000000     15.1     26.0  \n",
      "29092       1017.9  8.000000  8.000000     15.0     20.9  \n",
      "\n",
      "[29093 rows x 16 columns]\n"
     ]
    },
    {
     "name": "stderr",
     "output_type": "stream",
     "text": [
      "C:\\Users\\Divyansh Mittal\\AppData\\Local\\Temp\\ipykernel_9896\\1726181321.py:1: FutureWarning: Dropping of nuisance columns in DataFrame reductions (with 'numeric_only=None') is deprecated; in a future version this will raise TypeError.  Select only valid columns before calling the reduction.\n",
      "  means = df.mean()\n"
     ]
    },
    {
     "data": {
      "text/plain": [
       "(29093, 16)"
      ]
     },
     "execution_count": 455,
     "metadata": {},
     "output_type": "execute_result"
    }
   ],
   "source": [
    "means = df.mean()\n",
    "df = df.fillna(means)\n",
    "\n",
    "\n",
    "# data = df[['MinTemp', 'MaxTemp', 'Rainfall', 'Evaporation', 'Sunshine', 'WindGustSpeed','WindSpeed9am', 'WindSpeed3pm', 'Humidity9am', 'Humidity3pm', 'Pressure9am', 'Pressure3pm', 'Cloud9am', 'Cloud3pm', 'Temp9am', 'Temp3pm']]\n",
    "\n",
    "data = df.select_dtypes(exclude=['object'])\n",
    "\n",
    "\n",
    "rain = df['RainTomorrow'].tolist()\n",
    "\n",
    "\n",
    "print(data)\n",
    "data.shape\n",
    "\n",
    "\n"
   ]
  },
  {
   "cell_type": "code",
   "execution_count": 64,
   "id": "b4d52545",
   "metadata": {},
   "outputs": [
    {
     "name": "stdout",
     "output_type": "stream",
     "text": [
      "[0 0 0 ... 0 0 0]\n"
     ]
    }
   ],
   "source": [
    "def YesNoConverter(T):\n",
    "    if T == \"Yes\":\n",
    "        return 1\n",
    "    else:\n",
    "        return 0\n",
    "rain = list(map(YesNoConverter, rain))\n",
    "rain = np.array(rain)\n",
    "print (rain)"
   ]
  },
  {
   "cell_type": "code",
   "execution_count": 336,
   "id": "4b4aaa79",
   "metadata": {},
   "outputs": [],
   "source": [
    "for col in data.columns:\n",
    "    data[col] = (data[col] - data[col].min())/(data[col].max() - data[col].min()) \n",
    "\n"
   ]
  },
  {
   "cell_type": "code",
   "execution_count": 337,
   "id": "382882ee",
   "metadata": {},
   "outputs": [
    {
     "name": "stdout",
     "output_type": "stream",
     "text": [
      "MinTemp          0.501736\n",
      "MaxTemp          0.464349\n",
      "Rainfall         0.005786\n",
      "Evaporation      0.121439\n",
      "Sunshine         0.593153\n",
      "WindGustSpeed    0.277709\n",
      "WindSpeed3pm     0.285558\n",
      "Humidity9am      0.625548\n",
      "Humidity3pm      0.456067\n",
      "Pressure9am      0.579753\n",
      "Pressure3pm      0.579052\n",
      "Cloud9am         0.472588\n",
      "Cloud3pm         0.491987\n",
      "Temp9am          0.492402\n",
      "Temp3pm          0.480429\n",
      "WindSpeed3pm     0.285558\n",
      "dtype: float64\n",
      "0.46434899544965685\n"
     ]
    }
   ],
   "source": [
    "means = data.mean()\n",
    "print(means)\n",
    "print(means['MaxTemp'])"
   ]
  },
  {
   "cell_type": "code",
   "execution_count": 338,
   "id": "d1f208fa",
   "metadata": {},
   "outputs": [
    {
     "name": "stdout",
     "output_type": "stream",
     "text": [
      "        MinTemp   MaxTemp  Rainfall  Evaporation  Sunshine  WindGustSpeed  \\\n",
      "0      0.664835  0.954198       0.0     0.121439  0.922535       0.387097   \n",
      "1      1.000000  0.949109       0.0     0.121439  0.859155       0.387097   \n",
      "2      0.673077  0.592875       0.0     0.121439  0.661972       0.322581   \n",
      "3      0.527473  0.577608       0.0     0.121439  0.922535       0.306452   \n",
      "4      0.491758  0.531807       0.0     0.121439  0.873239       0.354839   \n",
      "...         ...       ...       ...          ...       ...            ...   \n",
      "29088  0.219780  0.417303       0.0     0.121439  0.593153       0.201613   \n",
      "29089  0.241758  0.465649       0.0     0.121439  0.593153       0.129032   \n",
      "29090  0.291209  0.506361       0.0     0.121439  0.593153       0.250000   \n",
      "29091  0.357143  0.508906       0.0     0.121439  0.593153       0.177419   \n",
      "29092  0.552198  0.464349       0.0     0.121439  0.593153       0.277709   \n",
      "\n",
      "       WindSpeed3pm  Humidity9am  Humidity3pm  Pressure9am  Pressure3pm  \\\n",
      "0          0.238095     0.262626     0.090909     0.567753       0.5216   \n",
      "1          0.476190     0.090909     0.212121     0.437393       0.4912   \n",
      "2          0.444444     0.626263     0.424242     0.492281       0.5184   \n",
      "3          0.476190     0.424242     0.282828     0.514580       0.5184   \n",
      "4          0.492063     0.474747     0.333333     0.449400       0.5008   \n",
      "...             ...          ...          ...          ...          ...   \n",
      "29088      0.174603     0.505051     0.232323     0.727273       0.6912   \n",
      "29089      0.142857     0.555556     0.202020     0.708405       0.6720   \n",
      "29090      0.142857     0.525253     0.232323     0.665523       0.6352   \n",
      "29091      0.111111     0.505051     0.232323     0.638079       0.6304   \n",
      "29092      0.269841     0.616162     0.353535     0.651801       0.6528   \n",
      "\n",
      "       Cloud9am  Cloud3pm   Temp9am   Temp3pm  WindSpeed3pm  \n",
      "0      0.472588  0.491987  0.788235  0.955882      0.238095  \n",
      "1      0.472588  0.491987  1.000000  0.781863      0.476190  \n",
      "2      0.875000  0.250000  0.600000  0.580882      0.444444  \n",
      "3      0.000000  0.000000  0.595294  0.615196      0.476190  \n",
      "4      0.125000  0.375000  0.604706  0.534314      0.492063  \n",
      "...         ...       ...       ...       ...           ...  \n",
      "29088  0.472588  0.491987  0.291765  0.453431      0.174603  \n",
      "29089  0.472588  0.491987  0.310588  0.504902      0.142857  \n",
      "29090  0.472588  0.491987  0.348235  0.544118      0.142857  \n",
      "29091  0.375000  0.250000  0.409412  0.541667      0.111111  \n",
      "29092  1.000000  1.000000  0.407059  0.416667      0.269841  \n",
      "\n",
      "[29093 rows x 16 columns]\n"
     ]
    }
   ],
   "source": [
    "print(data)"
   ]
  },
  {
   "cell_type": "code",
   "execution_count": 347,
   "id": "3b8b7a7b",
   "metadata": {},
   "outputs": [
    {
     "ename": "AttributeError",
     "evalue": "'numpy.ndarray' object has no attribute 'to_numpy'",
     "output_type": "error",
     "traceback": [
      "\u001b[1;31m---------------------------------------------------------------------------\u001b[0m",
      "\u001b[1;31mAttributeError\u001b[0m                            Traceback (most recent call last)",
      "Input \u001b[1;32mIn [347]\u001b[0m, in \u001b[0;36m<module>\u001b[1;34m\u001b[0m\n\u001b[1;32m----> 1\u001b[0m data \u001b[38;5;241m=\u001b[39m \u001b[43mdata\u001b[49m\u001b[38;5;241;43m.\u001b[39;49m\u001b[43mto_numpy\u001b[49m()\n",
      "\u001b[1;31mAttributeError\u001b[0m: 'numpy.ndarray' object has no attribute 'to_numpy'"
     ]
    }
   ],
   "source": [
    "data = data.to_numpy()\n"
   ]
  },
  {
   "cell_type": "code",
   "execution_count": 348,
   "id": "2377d134",
   "metadata": {},
   "outputs": [
    {
     "data": {
      "text/plain": [
       "(29093, 16)"
      ]
     },
     "execution_count": 348,
     "metadata": {},
     "output_type": "execute_result"
    }
   ],
   "source": [
    "data.shape\n"
   ]
  },
  {
   "cell_type": "code",
   "execution_count": 349,
   "id": "5d0ffc77",
   "metadata": {},
   "outputs": [
    {
     "ename": "ValueError",
     "evalue": "all the input array dimensions for the concatenation axis must match exactly, but along dimension 0, the array at index 0 has size 52062 and the array at index 1 has size 29093",
     "output_type": "error",
     "traceback": [
      "\u001b[1;31m---------------------------------------------------------------------------\u001b[0m",
      "\u001b[1;31mValueError\u001b[0m                                Traceback (most recent call last)",
      "Input \u001b[1;32mIn [349]\u001b[0m, in \u001b[0;36m<module>\u001b[1;34m\u001b[0m\n\u001b[1;32m----> 1\u001b[0m \u001b[43mnp\u001b[49m\u001b[38;5;241;43m.\u001b[39;49m\u001b[43mc_\u001b[49m\u001b[43m[\u001b[49m\u001b[43mnp\u001b[49m\u001b[38;5;241;43m.\u001b[39;49m\u001b[43mones\u001b[49m\u001b[43m(\u001b[49m\u001b[38;5;241;43m52062\u001b[39;49m\u001b[43m)\u001b[49m\u001b[43m,\u001b[49m\u001b[43mdata\u001b[49m\u001b[43m]\u001b[49m\n",
      "File \u001b[1;32m~\\AppData\\Local\\Programs\\Python\\Python39\\lib\\site-packages\\numpy\\lib\\index_tricks.py:407\u001b[0m, in \u001b[0;36mAxisConcatenator.__getitem__\u001b[1;34m(self, key)\u001b[0m\n\u001b[0;32m    404\u001b[0m     \u001b[38;5;28;01mfor\u001b[39;00m k \u001b[38;5;129;01min\u001b[39;00m scalars:\n\u001b[0;32m    405\u001b[0m         objs[k] \u001b[38;5;241m=\u001b[39m objs[k]\u001b[38;5;241m.\u001b[39mastype(final_dtype)\n\u001b[1;32m--> 407\u001b[0m res \u001b[38;5;241m=\u001b[39m \u001b[38;5;28;43mself\u001b[39;49m\u001b[38;5;241;43m.\u001b[39;49m\u001b[43mconcatenate\u001b[49m\u001b[43m(\u001b[49m\u001b[38;5;28;43mtuple\u001b[39;49m\u001b[43m(\u001b[49m\u001b[43mobjs\u001b[49m\u001b[43m)\u001b[49m\u001b[43m,\u001b[49m\u001b[43m \u001b[49m\u001b[43maxis\u001b[49m\u001b[38;5;241;43m=\u001b[39;49m\u001b[43maxis\u001b[49m\u001b[43m)\u001b[49m\n\u001b[0;32m    409\u001b[0m \u001b[38;5;28;01mif\u001b[39;00m matrix:\n\u001b[0;32m    410\u001b[0m     oldndim \u001b[38;5;241m=\u001b[39m res\u001b[38;5;241m.\u001b[39mndim\n",
      "File \u001b[1;32m<__array_function__ internals>:5\u001b[0m, in \u001b[0;36mconcatenate\u001b[1;34m(*args, **kwargs)\u001b[0m\n",
      "\u001b[1;31mValueError\u001b[0m: all the input array dimensions for the concatenation axis must match exactly, but along dimension 0, the array at index 0 has size 52062 and the array at index 1 has size 29093"
     ]
    }
   ],
   "source": [
    "np.c_[np.ones(52062),data]"
   ]
  },
  {
   "cell_type": "code",
   "execution_count": 350,
   "id": "55066568",
   "metadata": {},
   "outputs": [
    {
     "name": "stdout",
     "output_type": "stream",
     "text": [
      "[[0.66483516 0.95419847 0.         ... 0.78823529 0.95588235 0.23809524]\n",
      " [1.         0.94910941 0.         ... 1.         0.78186275 0.47619048]\n",
      " [0.67307692 0.59287532 0.         ... 0.6        0.58088235 0.44444444]\n",
      " ...\n",
      " [0.29120879 0.50636132 0.         ... 0.34823529 0.54411765 0.14285714]\n",
      " [0.35714286 0.50890585 0.         ... 0.40941176 0.54166667 0.11111111]\n",
      " [0.5521978  0.464349   0.         ... 0.40705882 0.41666667 0.26984127]]\n"
     ]
    },
    {
     "ename": "AttributeError",
     "evalue": "'NoneType' object has no attribute 'T'",
     "output_type": "error",
     "traceback": [
      "\u001b[1;31m---------------------------------------------------------------------------\u001b[0m",
      "\u001b[1;31mAttributeError\u001b[0m                            Traceback (most recent call last)",
      "Input \u001b[1;32mIn [350]\u001b[0m, in \u001b[0;36m<module>\u001b[1;34m\u001b[0m\n\u001b[1;32m----> 1\u001b[0m \u001b[38;5;28;43mprint\u001b[39;49m\u001b[43m(\u001b[49m\u001b[43mdata\u001b[49m\u001b[43m)\u001b[49m\u001b[38;5;241;43m.\u001b[39;49m\u001b[43mT\u001b[49m\n",
      "\u001b[1;31mAttributeError\u001b[0m: 'NoneType' object has no attribute 'T'"
     ]
    }
   ],
   "source": [
    "print(data).T\n"
   ]
  },
  {
   "cell_type": "code",
   "execution_count": 351,
   "id": "6fea3956",
   "metadata": {},
   "outputs": [
    {
     "name": "stdout",
     "output_type": "stream",
     "text": [
      "             Date    Location  MinTemp  MaxTemp  Rainfall  Evaporation  \\\n",
      "0      11-01-2014  PearceRAAF     19.0     44.5       0.0          NaN   \n",
      "1      12-01-2014  PearceRAAF     31.2     44.3       0.0          NaN   \n",
      "2      13-01-2014  PearceRAAF     19.3     30.3       0.0          NaN   \n",
      "3      14-01-2014  PearceRAAF     14.0     29.7       0.0          NaN   \n",
      "4      15-01-2014  PearceRAAF     12.7     27.9       0.0          NaN   \n",
      "...           ...         ...      ...      ...       ...          ...   \n",
      "29088  21-06-2017       Uluru      2.8     23.4       0.0          NaN   \n",
      "29089  22-06-2017       Uluru      3.6     25.3       0.0          NaN   \n",
      "29090  23-06-2017       Uluru      5.4     26.9       0.0          NaN   \n",
      "29091  24-06-2017       Uluru      7.8     27.0       0.0          NaN   \n",
      "29092  25-06-2017       Uluru     14.9      NaN       0.0          NaN   \n",
      "\n",
      "       Sunshine WindGustDir  WindGustSpeed WindDir9am  ... WindSpeed3pm  \\\n",
      "0          13.1           E           54.0          E  ...         15.0   \n",
      "1          12.2           E           54.0          N  ...         30.0   \n",
      "2           9.4         WSW           46.0        SSW  ...         28.0   \n",
      "3          13.1         WSW           44.0        SSE  ...         30.0   \n",
      "4          12.4           W           50.0         NW  ...         31.0   \n",
      "...         ...         ...            ...        ...  ...          ...   \n",
      "29088       NaN           E           31.0         SE  ...         11.0   \n",
      "29089       NaN         NNW           22.0         SE  ...          9.0   \n",
      "29090       NaN           N           37.0         SE  ...          9.0   \n",
      "29091       NaN          SE           28.0        SSE  ...          7.0   \n",
      "29092       NaN         NaN            NaN        ESE  ...         17.0   \n",
      "\n",
      "       Humidity9am  Humidity3pm  Pressure9am  Pressure3pm  Cloud9am  Cloud3pm  \\\n",
      "0             27.0         10.0       1015.3       1009.7       NaN       NaN   \n",
      "1             10.0         22.0       1007.7       1007.8       NaN       NaN   \n",
      "2             63.0         43.0       1010.9       1009.5       7.0       2.0   \n",
      "3             43.0         29.0       1012.2       1009.5       0.0       0.0   \n",
      "4             48.0         34.0       1008.4       1008.4       1.0       3.0   \n",
      "...            ...          ...          ...          ...       ...       ...   \n",
      "29088         51.0         24.0       1024.6       1020.3       NaN       NaN   \n",
      "29089         56.0         21.0       1023.5       1019.1       NaN       NaN   \n",
      "29090         53.0         24.0       1021.0       1016.8       NaN       NaN   \n",
      "29091         51.0         24.0       1019.4       1016.5       3.0       2.0   \n",
      "29092         62.0         36.0       1020.2       1017.9       8.0       8.0   \n",
      "\n",
      "       Temp9am  Temp3pm  RainTomorrow  \n",
      "0         31.2     42.9            No  \n",
      "1         40.2     35.8            No  \n",
      "2         23.2     27.6            No  \n",
      "3         23.0     29.0            No  \n",
      "4         23.4     25.7            No  \n",
      "...        ...      ...           ...  \n",
      "29088     10.1     22.4            No  \n",
      "29089     10.9     24.5            No  \n",
      "29090     12.5     26.1            No  \n",
      "29091     15.1     26.0            No  \n",
      "29092     15.0     20.9           NaN  \n",
      "\n",
      "[29093 rows x 22 columns]\n"
     ]
    }
   ],
   "source": [
    "df = pd.read_csv('weather_test.csv')\n",
    "print(df)\n"
   ]
  },
  {
   "cell_type": "code",
   "execution_count": 352,
   "id": "397b288e",
   "metadata": {},
   "outputs": [
    {
     "name": "stdout",
     "output_type": "stream",
     "text": [
      "             Date    Location  MinTemp    MaxTemp  Rainfall  Evaporation  \\\n",
      "0      11-01-2014  PearceRAAF     19.0  44.500000       0.0     6.096236   \n",
      "1      12-01-2014  PearceRAAF     31.2  44.300000       0.0     6.096236   \n",
      "2      13-01-2014  PearceRAAF     19.3  30.300000       0.0     6.096236   \n",
      "3      14-01-2014  PearceRAAF     14.0  29.700000       0.0     6.096236   \n",
      "4      15-01-2014  PearceRAAF     12.7  27.900000       0.0     6.096236   \n",
      "...           ...         ...      ...        ...       ...          ...   \n",
      "29088  21-06-2017       Uluru      2.8  23.400000       0.0     6.096236   \n",
      "29089  22-06-2017       Uluru      3.6  25.300000       0.0     6.096236   \n",
      "29090  23-06-2017       Uluru      5.4  26.900000       0.0     6.096236   \n",
      "29091  24-06-2017       Uluru      7.8  27.000000       0.0     6.096236   \n",
      "29092  25-06-2017       Uluru     14.9  25.248916       0.0     6.096236   \n",
      "\n",
      "        Sunshine WindGustDir  WindGustSpeed WindDir9am  ... WindSpeed3pm  \\\n",
      "0      13.100000           E      54.000000          E  ...         15.0   \n",
      "1      12.200000           E      54.000000          N  ...         30.0   \n",
      "2       9.400000         WSW      46.000000        SSW  ...         28.0   \n",
      "3      13.100000         WSW      44.000000        SSE  ...         30.0   \n",
      "4      12.400000           W      50.000000         NW  ...         31.0   \n",
      "...          ...         ...            ...        ...  ...          ...   \n",
      "29088   8.422771           E      31.000000         SE  ...         11.0   \n",
      "29089   8.422771         NNW      22.000000         SE  ...          9.0   \n",
      "29090   8.422771           N      37.000000         SE  ...          9.0   \n",
      "29091   8.422771          SE      28.000000        SSE  ...          7.0   \n",
      "29092   8.422771         NaN      40.435895        ESE  ...         17.0   \n",
      "\n",
      "       Humidity9am  Humidity3pm  Pressure9am  Pressure3pm  Cloud9am  Cloud3pm  \\\n",
      "0             27.0         10.0       1015.3       1009.7  3.780706  3.935895   \n",
      "1             10.0         22.0       1007.7       1007.8  3.780706  3.935895   \n",
      "2             63.0         43.0       1010.9       1009.5  7.000000  2.000000   \n",
      "3             43.0         29.0       1012.2       1009.5  0.000000  0.000000   \n",
      "4             48.0         34.0       1008.4       1008.4  1.000000  3.000000   \n",
      "...            ...          ...          ...          ...       ...       ...   \n",
      "29088         51.0         24.0       1024.6       1020.3  3.780706  3.935895   \n",
      "29089         56.0         21.0       1023.5       1019.1  3.780706  3.935895   \n",
      "29090         53.0         24.0       1021.0       1016.8  3.780706  3.935895   \n",
      "29091         51.0         24.0       1019.4       1016.5  3.000000  2.000000   \n",
      "29092         62.0         36.0       1020.2       1017.9  8.000000  8.000000   \n",
      "\n",
      "       Temp9am  Temp3pm  RainTomorrow  \n",
      "0         31.2     42.9            No  \n",
      "1         40.2     35.8            No  \n",
      "2         23.2     27.6            No  \n",
      "3         23.0     29.0            No  \n",
      "4         23.4     25.7            No  \n",
      "...        ...      ...           ...  \n",
      "29088     10.1     22.4            No  \n",
      "29089     10.9     24.5            No  \n",
      "29090     12.5     26.1            No  \n",
      "29091     15.1     26.0            No  \n",
      "29092     15.0     20.9           NaN  \n",
      "\n",
      "[29093 rows x 22 columns]\n",
      "       MinTemp    MaxTemp  Rainfall  Evaporation   Sunshine  WindGustSpeed  \\\n",
      "0         19.0  44.500000       0.0     6.096236  13.100000      54.000000   \n",
      "1         31.2  44.300000       0.0     6.096236  12.200000      54.000000   \n",
      "2         19.3  30.300000       0.0     6.096236   9.400000      46.000000   \n",
      "3         14.0  29.700000       0.0     6.096236  13.100000      44.000000   \n",
      "4         12.7  27.900000       0.0     6.096236  12.400000      50.000000   \n",
      "...        ...        ...       ...          ...        ...            ...   \n",
      "29088      2.8  23.400000       0.0     6.096236   8.422771      31.000000   \n",
      "29089      3.6  25.300000       0.0     6.096236   8.422771      22.000000   \n",
      "29090      5.4  26.900000       0.0     6.096236   8.422771      37.000000   \n",
      "29091      7.8  27.000000       0.0     6.096236   8.422771      28.000000   \n",
      "29092     14.9  25.248916       0.0     6.096236   8.422771      40.435895   \n",
      "\n",
      "       WindSpeed3pm  Humidity9am  Humidity3pm  Pressure9am  Pressure3pm  \\\n",
      "0              15.0         27.0         10.0       1015.3       1009.7   \n",
      "1              30.0         10.0         22.0       1007.7       1007.8   \n",
      "2              28.0         63.0         43.0       1010.9       1009.5   \n",
      "3              30.0         43.0         29.0       1012.2       1009.5   \n",
      "4              31.0         48.0         34.0       1008.4       1008.4   \n",
      "...             ...          ...          ...          ...          ...   \n",
      "29088          11.0         51.0         24.0       1024.6       1020.3   \n",
      "29089           9.0         56.0         21.0       1023.5       1019.1   \n",
      "29090           9.0         53.0         24.0       1021.0       1016.8   \n",
      "29091           7.0         51.0         24.0       1019.4       1016.5   \n",
      "29092          17.0         62.0         36.0       1020.2       1017.9   \n",
      "\n",
      "       Cloud9am  Cloud3pm  Temp9am  Temp3pm  WindSpeed3pm  \n",
      "0      3.780706  3.935895     31.2     42.9          15.0  \n",
      "1      3.780706  3.935895     40.2     35.8          30.0  \n",
      "2      7.000000  2.000000     23.2     27.6          28.0  \n",
      "3      0.000000  0.000000     23.0     29.0          30.0  \n",
      "4      1.000000  3.000000     23.4     25.7          31.0  \n",
      "...         ...       ...      ...      ...           ...  \n",
      "29088  3.780706  3.935895     10.1     22.4          11.0  \n",
      "29089  3.780706  3.935895     10.9     24.5           9.0  \n",
      "29090  3.780706  3.935895     12.5     26.1           9.0  \n",
      "29091  3.000000  2.000000     15.1     26.0           7.0  \n",
      "29092  8.000000  8.000000     15.0     20.9          17.0  \n",
      "\n",
      "[29093 rows x 16 columns]\n",
      "0         No\n",
      "1         No\n",
      "2         No\n",
      "3         No\n",
      "4         No\n",
      "        ... \n",
      "29088     No\n",
      "29089     No\n",
      "29090     No\n",
      "29091     No\n",
      "29092    NaN\n",
      "Name: RainTomorrow, Length: 29093, dtype: object\n"
     ]
    },
    {
     "name": "stderr",
     "output_type": "stream",
     "text": [
      "C:\\Users\\Divyansh Mittal\\AppData\\Local\\Temp\\ipykernel_9896\\507528599.py:1: FutureWarning: Dropping of nuisance columns in DataFrame reductions (with 'numeric_only=None') is deprecated; in a future version this will raise TypeError.  Select only valid columns before calling the reduction.\n",
      "  means = df.mean()\n"
     ]
    }
   ],
   "source": [
    "means = df.mean()\n",
    "df = df.fillna(means)\n",
    "\n",
    "print(df)\n",
    "\n",
    "\n",
    "data = df[['MinTemp', 'MaxTemp', 'Rainfall', 'Evaporation', 'Sunshine', 'WindGustSpeed', 'WindSpeed3pm', 'Humidity9am', 'Humidity3pm', 'Pressure9am', 'Pressure3pm', 'Cloud9am', 'Cloud3pm', 'Temp9am', 'Temp3pm', 'WindSpeed3pm']]\n",
    "\n",
    "\n",
    "\n",
    "rain = df['RainTomorrow']\n",
    "\n",
    "\n",
    "print(data)\n",
    "data.shape\n",
    "print(rain)\n"
   ]
  },
  {
   "cell_type": "code",
   "execution_count": 445,
   "id": "e722c1ac",
   "metadata": {},
   "outputs": [
    {
     "name": "stdout",
     "output_type": "stream",
     "text": [
      "0        0\n",
      "1        0\n",
      "2        0\n",
      "3        0\n",
      "4        0\n",
      "        ..\n",
      "29088    0\n",
      "29089    0\n",
      "29090    0\n",
      "29091    0\n",
      "29092    1\n",
      "Name: RainTomorrow, Length: 29093, dtype: int64\n"
     ]
    }
   ],
   "source": [
    "def YesNoConverter(T):\n",
    "    if T == \"Yes\":\n",
    "        return 1\n",
    "    else:\n",
    "        return 0\n",
    "# rain = list(map(YesNoConverter, rain))\n",
    "# rain1 =  rain.fillna(0)\n",
    "rain1 = rain.replace(to_replace =\"Yes\",value =1)\n",
    "rain2 = rain1.fillna(1)\n",
    "rain3 = rain2.replace(to_replace =\"No\",value =0)\n",
    "\n",
    "print (rain3)"
   ]
  },
  {
   "cell_type": "code",
   "execution_count": 446,
   "id": "94531f2e",
   "metadata": {},
   "outputs": [],
   "source": [
    "for col in data.columns:\n",
    "    data[col] = (data\n",
    "                 [col] - data[col].min())/(data[col].max() - data[col].min()) \n",
    "\n",
    "    "
   ]
  },
  {
   "cell_type": "code",
   "execution_count": 447,
   "id": "e9925fd2",
   "metadata": {},
   "outputs": [
    {
     "name": "stdout",
     "output_type": "stream",
     "text": [
      "MinTemp          0.501736\n",
      "MaxTemp          0.464349\n",
      "Rainfall         0.005786\n",
      "Evaporation      0.121439\n",
      "Sunshine         0.593153\n",
      "WindGustSpeed    0.277709\n",
      "WindSpeed3pm     0.285558\n",
      "Humidity9am      0.625548\n",
      "Humidity3pm      0.456067\n",
      "Pressure9am      0.579753\n",
      "Pressure3pm      0.579052\n",
      "Cloud9am         0.472588\n",
      "Cloud3pm         0.491987\n",
      "Temp9am          0.492402\n",
      "Temp3pm          0.480429\n",
      "WindSpeed3pm     0.285558\n",
      "dtype: float64\n",
      "0.46434899544965685\n"
     ]
    }
   ],
   "source": [
    "means = data.mean()\n",
    "print(means)\n",
    "print(means['MaxTemp'])"
   ]
  },
  {
   "cell_type": "code",
   "execution_count": 448,
   "id": "bf7a4c22",
   "metadata": {},
   "outputs": [],
   "source": [
    "a = data.to_numpy()"
   ]
  },
  {
   "cell_type": "code",
   "execution_count": 449,
   "id": "13a7efe5",
   "metadata": {},
   "outputs": [],
   "source": [
    "w_opt = np.array([-5.549, -0.678 , 0.991 , 6.913 , 1.69 , -1.594 , 5.81 ,  1.047 ,-2.362, 1.152, 5.242,  5.115, -6.482 , 0.237 , 1.016,  0.063 , 0.5])"
   ]
  },
  {
   "cell_type": "code",
   "execution_count": 450,
   "id": "fc85602e",
   "metadata": {},
   "outputs": [
    {
     "name": "stdout",
     "output_type": "stream",
     "text": [
      "29093 16\n"
     ]
    }
   ],
   "source": [
    "row,col = data.shape\n",
    "print(row,col)"
   ]
  },
  {
   "cell_type": "code",
   "execution_count": 451,
   "id": "54870e59",
   "metadata": {},
   "outputs": [
    {
     "name": "stdout",
     "output_type": "stream",
     "text": [
      "29093 17\n"
     ]
    }
   ],
   "source": [
    "X = np.column_stack([np.ones(row),data])\n",
    "row,col = X.shape\n",
    "print(row,col)"
   ]
  },
  {
   "cell_type": "code",
   "execution_count": 452,
   "id": "46ee4845",
   "metadata": {},
   "outputs": [
    {
     "data": {
      "text/plain": [
       "(29093,)"
      ]
     },
     "execution_count": 452,
     "metadata": {},
     "output_type": "execute_result"
    }
   ],
   "source": [
    "d = np.dot(w_opt,X.T)\n",
    "d.shape\n"
   ]
  },
  {
   "cell_type": "code",
   "execution_count": 453,
   "id": "a35b0475",
   "metadata": {},
   "outputs": [
    {
     "data": {
      "text/plain": [
       "(29093,)"
      ]
     },
     "execution_count": 453,
     "metadata": {},
     "output_type": "execute_result"
    }
   ],
   "source": [
    "d = np.round(1/(1+np.exp(-d)))\n",
    "d.shape\n",
    "\n"
   ]
  },
  {
   "cell_type": "code",
   "execution_count": 454,
   "id": "277b30b8",
   "metadata": {},
   "outputs": [
    {
     "name": "stdout",
     "output_type": "stream",
     "text": [
      "0.5672842264462242\n"
     ]
    }
   ],
   "source": [
    "a = np.mean(rain3==d)\n",
    "print(a)"
   ]
  },
  {
   "cell_type": "code",
   "execution_count": null,
   "id": "abc8edb4",
   "metadata": {},
   "outputs": [],
   "source": []
  },
  {
   "cell_type": "code",
   "execution_count": null,
   "id": "3855f00e",
   "metadata": {},
   "outputs": [],
   "source": []
  },
  {
   "cell_type": "code",
   "execution_count": null,
   "id": "5f1dab12",
   "metadata": {},
   "outputs": [],
   "source": []
  },
  {
   "cell_type": "code",
   "execution_count": null,
   "id": "d325cedf",
   "metadata": {},
   "outputs": [],
   "source": []
  },
  {
   "cell_type": "code",
   "execution_count": null,
   "id": "627d911d",
   "metadata": {},
   "outputs": [],
   "source": []
  },
  {
   "cell_type": "code",
   "execution_count": null,
   "id": "cbba35d0",
   "metadata": {},
   "outputs": [],
   "source": []
  },
  {
   "cell_type": "code",
   "execution_count": null,
   "id": "d69ce94a",
   "metadata": {},
   "outputs": [],
   "source": []
  },
  {
   "cell_type": "code",
   "execution_count": null,
   "id": "123d3aa9",
   "metadata": {},
   "outputs": [],
   "source": []
  },
  {
   "cell_type": "code",
   "execution_count": null,
   "id": "7f7bed53",
   "metadata": {},
   "outputs": [],
   "source": []
  },
  {
   "cell_type": "code",
   "execution_count": null,
   "id": "f8123cee",
   "metadata": {},
   "outputs": [],
   "source": []
  },
  {
   "cell_type": "code",
   "execution_count": null,
   "id": "83715892",
   "metadata": {},
   "outputs": [],
   "source": []
  },
  {
   "cell_type": "code",
   "execution_count": null,
   "id": "c526c439",
   "metadata": {},
   "outputs": [],
   "source": []
  },
  {
   "cell_type": "code",
   "execution_count": null,
   "id": "8a9f9b96",
   "metadata": {},
   "outputs": [],
   "source": []
  }
 ],
 "metadata": {
  "kernelspec": {
   "display_name": "Python 3 (ipykernel)",
   "language": "python",
   "name": "python3"
  },
  "language_info": {
   "codemirror_mode": {
    "name": "ipython",
    "version": 3
   },
   "file_extension": ".py",
   "mimetype": "text/x-python",
   "name": "python",
   "nbconvert_exporter": "python",
   "pygments_lexer": "ipython3",
   "version": "3.9.2"
  }
 },
 "nbformat": 4,
 "nbformat_minor": 5
}
