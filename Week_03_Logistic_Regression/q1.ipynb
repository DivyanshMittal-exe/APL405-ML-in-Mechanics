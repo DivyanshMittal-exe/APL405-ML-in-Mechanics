{
 "cells": [
  {
   "cell_type": "code",
   "execution_count": 3,
   "id": "f950aab4",
   "metadata": {},
   "outputs": [],
   "source": [
    "import numpy as np\n",
    "from matplotlib import pyplot as plt\n",
    "import pandas as pd\n",
    "from scipy import optimize\n",
    "pd.options.mode.chained_assignment = None\n",
    "\n",
    "plt.style.use('ggplot')"
   ]
  },
  {
   "cell_type": "code",
   "execution_count": 4,
   "id": "ae70ea89",
   "metadata": {},
   "outputs": [],
   "source": [
    "    def data_clean():\n",
    "        \n",
    "        df = pd.read_csv('weather_train.csv')\n",
    "        df = df.replace(to_replace =\"Yes\",value =1)\n",
    "        df = df.replace(to_replace =\"No\",value =0)\n",
    "        \n",
    "        \n",
    "        means = df.mean()\n",
    "        df = df.fillna(means)\n",
    "\n",
    "        data = df[['MinTemp', 'MaxTemp', 'Rainfall', 'Evaporation', 'Sunshine', 'WindGustSpeed','WindSpeed9am', 'WindSpeed3pm', 'Humidity9am', 'Humidity3pm', 'Pressure9am', 'Pressure3pm', 'Cloud9am', 'Cloud3pm', 'Temp9am', 'Temp3pm']]\n",
    "\n",
    "        \n",
    "\n",
    "        \n",
    "        # data = df.iloc[: , :-1]\n",
    "        \n",
    "        rain = df.iloc[: , -1]\n",
    "        # print(rain)\n",
    "        # rain = list(map(YesNoConverter, rain))\n",
    "        \n",
    "        \n",
    "                \n",
    "        rain = rain.tolist()\n",
    "        \n",
    "        # rain = np.array(rain)\n",
    "        # print (rain)\n",
    "\n",
    "        for col in data.columns:\n",
    "            data[col] = (data[col] - data[col].min())/(data[col].max() - data[col].min()) \n",
    "            \n",
    "        means = data.mean()\n",
    "\n",
    "        \n",
    "        X = data     # X (Feature matrix) - should be numpy array\n",
    "        y = rain          # y (prediction vector) - should be numpy arrays\n",
    "        mean = means['MaxTemp']         # Mean of a the normalized \"MaxTemp\" column rounded off to 3 decimal places\n",
    "    \n",
    "        return X, y\n"
   ]
  },
  {
   "cell_type": "code",
   "execution_count": 5,
   "id": "9c0cdd4c",
   "metadata": {},
   "outputs": [],
   "source": [
    "def costFunctionReg(w,X,y,lambda_):\n",
    "        # print(\"costFunctionReg\")\n",
    "        y = np.round(np.array(y))\n",
    "        m,col = X.shape\n",
    "        x = X.T\n",
    "        \n",
    "        h = sigmoid(np.dot(w,x))\n",
    "        \n",
    "        J = (-1*np.dot(y,np.log(h)) - np.dot(1-y,np.log(1-h)))/m + lambda_*np.sum(np.square(w))/(2*m) # Cost 'J' should be a scalar\n",
    "        \n",
    "        \n",
    "        grad =  (h - y)\n",
    "        grad_J = np.dot(x,grad.T)\n",
    "        \n",
    "        grad =  np.divide(grad_J,m)    +  lambda_*w/(m)   # Gradient 'grad' should be a vector\n",
    "        print(J)\n",
    "        return J, grad"
   ]
  },
  {
   "cell_type": "code",
   "execution_count": 6,
   "id": "3c6a6b11",
   "metadata": {},
   "outputs": [],
   "source": [
    "def sigmoid(z):\n",
    "        \n",
    "        return 1/(1 + np.exp(-z))"
   ]
  },
  {
   "cell_type": "code",
   "execution_count": 41,
   "id": "8407641c",
   "metadata": {},
   "outputs": [],
   "source": [
    "def minCostFun( w_ini, X_train, y_train, iters,lambda_):\n",
    "        row,col = X_train.shape\n",
    "        m = col\n",
    "        options = {'maxiter':iters,'disp': True,'eps':1e-8}\n",
    "\n",
    "        res = optimize.minimize(costFunctionReg,w_ini,(X_train,y_train,lambda_),jac = True,method='TNC',options = options)\n",
    "        \n",
    "        cost = res.fun\n",
    "        \n",
    "        w_opt =  res.x     # Optimized weights rounded off to 3 decimal places\n",
    "        return w_opt"
   ]
  },
  {
   "cell_type": "code",
   "execution_count": 42,
   "id": "a7d35d32",
   "metadata": {},
   "outputs": [
    {
     "name": "stderr",
     "output_type": "stream",
     "text": [
      "C:\\Users\\Divyansh Mittal\\AppData\\Local\\Temp\\ipykernel_6492\\1930080601.py:8: FutureWarning: Dropping of nuisance columns in DataFrame reductions (with 'numeric_only=None') is deprecated; in a future version this will raise TypeError.  Select only valid columns before calling the reduction.\n",
      "  means = df.mean()\n"
     ]
    }
   ],
   "source": [
    "X,y = data_clean()"
   ]
  },
  {
   "cell_type": "code",
   "execution_count": 43,
   "id": "a6cf36c0",
   "metadata": {},
   "outputs": [],
   "source": [
    "X = np.array(X)\n",
    "y = np.array(y)"
   ]
  },
  {
   "cell_type": "code",
   "execution_count": 44,
   "id": "9a0f6ecd",
   "metadata": {},
   "outputs": [
    {
     "data": {
      "text/plain": [
       "(52062, 17)"
      ]
     },
     "execution_count": 44,
     "metadata": {},
     "output_type": "execute_result"
    }
   ],
   "source": [
    "m = y.size\n",
    "X_test = np.column_stack([np.ones(m),X])\n",
    "X_test.shape"
   ]
  },
  {
   "cell_type": "code",
   "execution_count": 45,
   "id": "e839d3ca",
   "metadata": {},
   "outputs": [
    {
     "name": "stdout",
     "output_type": "stream",
     "text": [
      "0.6931471805599467\n",
      "0.6931471764450727\n",
      "0.6931471804980036\n",
      "0.6931471805541055\n",
      "0.4488517847813407\n",
      "0.4488517832532359\n",
      "0.448851784763683\n",
      "0.4276997635926194\n",
      "0.42769976144999566\n",
      "0.42769976329377835\n",
      "0.4276997634990074\n",
      "0.42769976349569894\n",
      "0.4276997635060524\n",
      "0.42769976340421645\n",
      "0.4108276246906746\n",
      "0.4108276245921497\n",
      "0.4108276246252473\n",
      "0.4108276246827759\n",
      "0.4108276246851064\n",
      "0.41082762468807976\n",
      "0.41082762469321765\n",
      "0.40932250365764894\n",
      "0.40932250364579725\n",
      "0.4093225036527622\n",
      "0.40932250365275274\n",
      "0.40932250365567535\n",
      "0.409113834217122\n",
      "0.40911383406047175\n",
      "0.40911383005940505\n",
      "0.4091138341380465\n",
      "0.40911383407922836\n",
      "0.4091138340854479\n",
      "0.409113830848259\n",
      "0.4087353338382082\n",
      "0.40873533383583655\n",
      "0.40873533377591587\n",
      "0.4087353338362747\n",
      "0.4087353338346824\n",
      "0.40873533383687755\n",
      "0.4087353338371622\n",
      "0.4085368269906744\n",
      "0.4085368269820757\n",
      "0.40853682698986615\n",
      "0.40853682698951815\n",
      "0.40853682698894456\n",
      "0.4085368269895114\n",
      "0.40853682698942506\n",
      "0.4085368269802818\n",
      "0.4083656021760527\n",
      "0.4083656021752344\n",
      "0.40836560217115364\n",
      "0.4083656021713406\n",
      "0.4083656021751308\n",
      "0.40836560217404466\n",
      "0.4083656021742853\n",
      "0.40836560217280193\n",
      "0.4081834789837109\n",
      "0.4081834789767337\n",
      "0.408183478982167\n",
      "0.4081834789825693\n",
      "0.4081289165209309\n",
      "0.4081289165201626\n",
      "0.4081289165171164\n",
      "0.4081289165193738\n",
      "0.40812891651728583\n",
      "0.4081289165206949\n",
      "0.4081289165206527\n",
      "0.40807170929004716\n",
      "0.408071709289396\n",
      "0.40807170928922726\n",
      "0.4080717092895339\n",
      "0.40807170928994874\n",
      "0.4080717092897334\n",
      "0.4080717092899353\n",
      "0.40807170928819625\n",
      "0.40805716461668196\n",
      "0.4080571646166224\n",
      "0.40805716461501196\n",
      "0.4080571646166044\n",
      "0.40805716461628694\n",
      "0.4080571646166017\n",
      "0.40804747926631313\n",
      "0.40804747926618284\n",
      "0.4080474792661464\n",
      "0.4080468660979516\n",
      "0.40804686609785046\n",
      "0.4080468660978546\n",
      "0.4080468660978819\n",
      "0.40804686609791635\n",
      "0.4080468660976519\n",
      "0.4080468660978802\n",
      "0.4080468660966605\n",
      "0.40804686609793567\n",
      "0.4080377049967583\n",
      "0.40803770499674635\n",
      "0.4080377049966419\n",
      "0.40803731887657035\n",
      "0.4080373188765599\n",
      "0.40803731887654626\n",
      "0.4080373188765505\n",
      "0.4080373188765271\n",
      "0.4080373188765651\n",
      "0.40803731887655603\n",
      "0.40803731887644423\n",
      "0.4080373188764405\n",
      "0.4080349122643298\n",
      "0.4080349122643176\n",
      "0.40803491226410415\n",
      "0.40803491226431404\n",
      "0.40803434335507777\n",
      "0.4080343433550644\n",
      "0.40803434335506017\n",
      "0.4080343433549457\n",
      "0.408034343355073\n",
      "0.4080343433550428\n",
      "0.4080343433550617\n",
      "0.40803434335506267\n",
      "0.40803282753247944\n",
      "0.40803282753246284\n",
      "0.40803282753245085\n",
      "0.40803282753247\n",
      "0.40803282753245784\n",
      "0.4080328275324667\n",
      "0.4080320917139623\n",
      "0.40803209171395227\n",
      "0.4080320917139442\n",
      "0.4080320294328757\n",
      "0.40803202943286715\n",
      "0.4080320294328644\n",
      "0.4080320294328719\n",
      "0.40803202943287487\n",
      "0.40803202943287314\n",
      "0.40803182790387577\n",
      "0.40803182789657455\n",
      "0.4080318279016729\n",
      "0.40803182790210357\n",
      "0.4080318279022322\n",
      "0.4080318279010849\n",
      "0.40803182788876424\n",
      "0.4080316362187287\n",
      "0.408031636218727\n",
      "0.408031636218723\n",
      "0.4080316362187256\n",
      "0.4080316362187277\n",
      "0.40803163621872807\n",
      "0.40803163621871935\n",
      "0.4080315697755093\n",
      "0.40803156977550725\n",
      "0.4080315697755068\n",
      "0.4080315697755087\n",
      "0.4080315697755088\n",
      "0.40803156977550675\n",
      "0.40803156977550825\n",
      "0.40803151471444143\n",
      "0.40803151471444127\n",
      "0.408031514714441\n",
      "0.4080315147144404\n",
      "0.4080315147144413\n",
      "0.408031514714441\n",
      "0.4080315147144411\n",
      "0.4080314937864077\n",
      "0.40803149378640746\n",
      "0.4080314937864075\n",
      "0.4080314937864073\n",
      "0.40803149378640746\n",
      "0.40803149378640713\n",
      "0.4080314937864075\n",
      "0.40803147944104484\n"
     ]
    },
    {
     "data": {
      "text/plain": [
       "array([-5.539, -0.681,  0.987,  6.913,  1.682, -1.595,  5.806,  1.044,\n",
       "       -2.363,  1.149,  5.243,  5.093, -6.468,  0.236,  1.015,  0.061,\n",
       "        0.506])"
      ]
     },
     "execution_count": 45,
     "metadata": {},
     "output_type": "execute_result"
    }
   ],
   "source": [
    "np.round(minCostFun(np.zeros(17),X_test,y,10000,0.1),3)"
   ]
  },
  {
   "cell_type": "code",
   "execution_count": 62,
   "id": "2e144311",
   "metadata": {},
   "outputs": [],
   "source": [
    "loss = []\n"
   ]
  },
  {
   "cell_type": "code",
   "execution_count": 63,
   "id": "e1d02f59",
   "metadata": {},
   "outputs": [],
   "source": [
    "def call(J, grad):\n",
    "    loss.append(J)"
   ]
  },
  {
   "cell_type": "code",
   "execution_count": 65,
   "id": "47b34125",
   "metadata": {},
   "outputs": [
    {
     "name": "stdout",
     "output_type": "stream",
     "text": [
      "[]\n",
      "ERROR! Session/line number was not unique in database. History logging moved to new session 35\n"
     ]
    }
   ],
   "source": [
    "print(loss)"
   ]
  },
  {
   "cell_type": "code",
   "execution_count": 76,
   "id": "0ec4aa82",
   "metadata": {},
   "outputs": [],
   "source": [
    "X = [0.6931471805599467,0.6931471764450727,0.6931471804980055,0.6931471805541127,0.4490056555885154,0.44900565406772464,0.44900565557100924,0.42796389958921227,0.42796389745806346,0.42796389929125156,0.4279638994967104,0.4279638994941688,0.42796389952445785,0.41299620867347725,0.4129962060952087,0.4129962086119032,0.4115113650692311,0.41151136506412017,0.4115113650549816,0.41151136504648816,0.4111367421784361,0.4111367421681895,0.41113674206066625,0.4108824319270802,0.41088243188733714,0.4108824317929226,0.4108824319245403,0.41088243191339163,0.41088243192584845,0.4108824319259613,0.41088243189582635,0.410245680356476,0.4102456802370104,0.41024567985482374,0.4102456802903813,0.41024568021022223,0.4102456802269935,0.41024567800897416,0.40998826845392106,0.4099882684531993,0.40998826844812014,0.409988268452907,0.40998826845194314,0.40998826845336356,0.4099882684535776,0.4099882684300359,0.40998826845301933,0.4098307940452985,0.40983079404469236,0.40983079404212347,0.4098047837058304,0.40980478369874074,0.409804783703736,0.409804783705414,0.40980478370383594,0.4098047837054512,0.4098047837056386,0.40972854736357056,0.4097285473614601,0.4097285473632422,0.409728547363325,0.4097285473623603,0.40972854736334097,0.4097285473633292,0.40972854735660785,0.40972854736347103,0.40969180093075713,0.40969180093069124,0.4096918009306323,0.4096918009306223,0.40969180093072477,0.40969180093070173,0.40968825824240296,0.40968825824238986,0.4096882582423571,0.4096880373342071,0.4096880373341684,0.40968803733416115,0.4096880373341956,0.40968803733417786,0.40968676093162587,0.40968676093160017,0.40968676093158746,0.4096867609313295,0.4096867609315745,0.409686760931482,0.40968676093161244,0.40968676093161543,0.4096834800149996,0.40968348001492333,0.4096834800149854,0.4096834800149794,0.40968348001498267,0.409683480014965,0.40968348001498733,0.40968348001492455,0.4096834800149902,0.40968193335243086,0.40968193335242525,0.4096819333524226,0.4096819333524246,0.40968193335242664,0.40968193335242653,0.40968193335240527,0.4096819333522935,0.40968193335242375,0.4096808718950691,0.4096808718950649,0.4096808718950545,0.4096808718950599,0.40968087189506497,0.40968087189506514,0.4096808718950662,0.40968087189500396,0.4096808718950652,0.4096802905646226,0.4096802905646208,0.4096802905645956,0.4096802905646058,0.4096802905646177,0.409680290564621,0.4096802905646209,0.4096799441001781,0.4096799441001753,0.40967994410017744,0.40967994410017644,0.4096799441001777,0.40967994410017755,0.40967990611469834,0.40967990610934385,0.40967990611405636,0.4096799061136825,0.40967990611415755,0.4096799061147019,0.4096798495588688,0.4096798495588677,0.4096798495588685,0.4096798495588688,0.4096798495588688,0.4096798495588688,0.4096798464503532]"
   ]
  },
  {
   "cell_type": "code",
   "execution_count": 79,
   "id": "8748b99a",
   "metadata": {},
   "outputs": [],
   "source": [
    "Y = [i for i in range(141)]"
   ]
  },
  {
   "cell_type": "code",
   "execution_count": 81,
   "id": "3a0985e7",
   "metadata": {},
   "outputs": [
    {
     "data": {
      "image/png": "[encoded data removed]",
      "text/plain": [
       "<Figure size 432x288 with 1 Axes>"
      ]
     },
     "metadata": {},
     "output_type": "display_data"
    }
   ],
   "source": [
    "plt.plot(Y,X,label='J')\n",
    "plt.title(\"J vs iterations\")\n",
    "plt.xlabel('No of iterations')\n",
    "plt.ylabel('J')  \n",
    "plt.legend()\n",
    "plt.savefig('J.png',dpi=500)\n",
    "plt.show()\n"
   ]
  },
  {
   "cell_type": "code",
   "execution_count": null,
   "id": "df1747eb",
   "metadata": {},
   "outputs": [],
   "source": []
  }
 ],
 "metadata": {
  "kernelspec": {
   "display_name": "Python 3 (ipykernel)",
   "language": "python",
   "name": "python3"
  },
  "language_info": {
   "codemirror_mode": {
    "name": "ipython",
    "version": 3
   },
   "file_extension": ".py",
   "mimetype": "text/x-python",
   "name": "python",
   "nbconvert_exporter": "python",
   "pygments_lexer": "ipython3",
   "version": "3.9.2"
  }
 },
 "nbformat": 4,
 "nbformat_minor": 5
}
